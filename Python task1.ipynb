{
 "cells": [
  {
   "cell_type": "code",
   "execution_count": 6,
   "id": "d12ee02e-e709-447e-8f0e-edf3433eea24",
   "metadata": {},
   "outputs": [
    {
     "data": {
      "text/plain": [
       "2315262738624675840"
      ]
     },
     "execution_count": 6,
     "metadata": {},
     "output_type": "execute_result"
    }
   ],
   "source": [
    "from collections.abc import Iterable\n",
    "from functools import reduce\n",
    "\n",
    "def flatten(raw):\n",
    "    for x in raw:\n",
    "        if isinstance(x, Iterable) and not isinstance(x, (str)):\n",
    "            yield from flatten(x)\n",
    "        else:\n",
    "            yield x\n",
    "def ans(lst):\n",
    "    g = [x for x in flatten(lst)]\n",
    "    z = [i for i in g if type(i) == int] \n",
    "    return reduce(lambda x,y : x*y, z)\n",
    "    \n",
    "list1 = [1,2,3,4, [44,55,66, True], False, (34,56,78,89,34), {1,2,3,3,2,1}, {1:34, \"key2\": [55, 67, 78, 89], 4: (45,\n",
    "22, 61, 34)}, [56, 'data science'], 'Machine Learning']\n",
    "ans(list1)"
   ]
  },
  {
   "cell_type": "code",
   "execution_count": 62,
   "id": "fec11509-0095-4ad5-a3e6-cef620b0b6f1",
   "metadata": {},
   "outputs": [],
   "source": [
    "def encrypt(original):\n",
    "    org_lower = original.lower()\n",
    "    encr = \"\"\n",
    "    for x in org_lower:\n",
    "        if ord(x) == 32:\n",
    "            encr = encr + chr(36)\n",
    "        elif ord(x) >= 97 and ord(x) <=122:\n",
    "            encr =encr + chr(97-ord(x)+122)\n",
    "        else:\n",
    "            encr = encr + x\n",
    "    return encr"
   ]
  },
  {
   "cell_type": "code",
   "execution_count": 63,
   "id": "84124766-c587-4b37-97e8-42d182d86cd8",
   "metadata": {},
   "outputs": [
    {
     "data": {
      "text/plain": [
       "'r$dzmg$gl$yvxlnv$z$wzgz$hxrvmgrhg.'"
      ]
     },
     "execution_count": 63,
     "metadata": {},
     "output_type": "execute_result"
    }
   ],
   "source": [
    "encrypt(\"I want to become a Data Scientist.\")"
   ]
  }
 ],
 "metadata": {
  "kernelspec": {
   "display_name": "Python 3 (ipykernel)",
   "language": "python",
   "name": "python3"
  },
  "language_info": {
   "codemirror_mode": {
    "name": "ipython",
    "version": 3
   },
   "file_extension": ".py",
   "mimetype": "text/x-python",
   "name": "python",
   "nbconvert_exporter": "python",
   "pygments_lexer": "ipython3",
   "version": "3.10.8"
  }
 },
 "nbformat": 4,
 "nbformat_minor": 5
}
