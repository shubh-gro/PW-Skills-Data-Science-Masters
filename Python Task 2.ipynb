{
 "cells": [
  {
   "cell_type": "markdown",
   "id": "79ad6eb1-2aad-4ba1-9129-94dfa72c45af",
   "metadata": {},
   "source": [
    "### Answer 1:"
   ]
  },
  {
   "cell_type": "code",
   "execution_count": 11,
   "id": "317dfcb8-2d25-401e-a0f2-18e41e9da044",
   "metadata": {},
   "outputs": [],
   "source": [
    "class password:\n",
    "    spl_chr = \"[@_!#$%^&*()<>?/\\|}{~:]\"   \n",
    "    def __init__(self,pasw):\n",
    "        self.pasw = tuple(pasw)\n",
    "    def check(self):\n",
    "        if len(self.pasw) ==10 and len([x for x in self.pasw if x.isupper()])>=2 and len([x for x in self.pasw if x.islower()])>=2 and len([x for x in self.pasw if x.isnumeric()])>=1 and len([x for x in self.pasw if x in self.spl_chr])==3:\n",
    "            return \"Valid Password\"\n",
    "        else:\n",
    "            return \"Invalid Password\""
   ]
  },
  {
   "cell_type": "code",
   "execution_count": 12,
   "id": "994a5e43-a73a-43a6-9ad3-ac37601c7977",
   "metadata": {},
   "outputs": [
    {
     "data": {
      "text/plain": [
       "'Valid Password'"
      ]
     },
     "execution_count": 12,
     "metadata": {},
     "output_type": "execute_result"
    }
   ],
   "source": [
    "password_1 = password(\"MAy@2$r3&p\")\n",
    "password_1.check()"
   ]
  },
  {
   "cell_type": "markdown",
   "id": "a4432bad-e88f-4b46-abf1-c4d96e5a97a4",
   "metadata": {},
   "source": [
    "### Answer 2:"
   ]
  },
  {
   "cell_type": "code",
   "execution_count": 52,
   "id": "e19856ee-bad3-426e-948c-5409e5ae3fc1",
   "metadata": {},
   "outputs": [
    {
     "name": "stdout",
     "output_type": "stream",
     "text": [
      "False\n"
     ]
    }
   ],
   "source": [
    "#Check if the string starts with I\n",
    "str = \"Data Science and Life Leader\"\n",
    "starts_with = lambda s: s.startswith('I') #lambda function named starts_with which takes a string as aregument.\n",
    "print(starts_with(str))"
   ]
  },
  {
   "cell_type": "code",
   "execution_count": 66,
   "id": "ec36bea2-b0a2-4fc8-8e57-e196ee7aebab",
   "metadata": {},
   "outputs": [
    {
     "name": "stdout",
     "output_type": "stream",
     "text": [
      "The string is numeric\n"
     ]
    }
   ],
   "source": [
    "string = \"12345\"\n",
    "is_numeric = lambda s: s.isnumeric()\n",
    "if is_numeric(string):\n",
    "    print(\"The string is numeric\")\n",
    "else:\n",
    "    print(\"The string is not numeric\")"
   ]
  },
  {
   "cell_type": "code",
   "execution_count": 2,
   "id": "8c0c0a81-2407-401f-aa75-0ec235ca2b7a",
   "metadata": {},
   "outputs": [
    {
     "data": {
      "text/plain": [
       "[1, 4, 9, 16, 25, 36, 49, 64, 81, 100]"
      ]
     },
     "execution_count": 2,
     "metadata": {},
     "output_type": "execute_result"
    }
   ],
   "source": [
    "square = list(map(lambda x:x**2, range(1,11)))\n",
    "square"
   ]
  },
  {
   "cell_type": "code",
   "execution_count": 3,
   "id": "0319c9c0-2183-44ff-9c54-cbcb001fa9d7",
   "metadata": {},
   "outputs": [
    {
     "data": {
      "text/plain": [
       "[1, 8, 27, 64, 125, 216, 343, 512, 729, 1000]"
      ]
     },
     "execution_count": 3,
     "metadata": {},
     "output_type": "execute_result"
    }
   ],
   "source": [
    "cube = list(map(lambda x:x**3, range(1,11)))\n",
    "cube"
   ]
  },
  {
   "cell_type": "code",
   "execution_count": 2,
   "id": "93703091-8ab8-40ed-a9ef-0db4aba89dff",
   "metadata": {},
   "outputs": [
    {
     "name": "stdout",
     "output_type": "stream",
     "text": [
      "Number is even\n"
     ]
    }
   ],
   "source": [
    "even = lambda x: \"Number is even\" if x%2 ==0 else \"Odd\"\n",
    "print(even(8))"
   ]
  },
  {
   "cell_type": "code",
   "execution_count": 3,
   "id": "ee5f7538-154c-4eff-a616-17c889912ffa",
   "metadata": {},
   "outputs": [
    {
     "name": "stdout",
     "output_type": "stream",
     "text": [
      "[1, 3, 5, 7, 9]\n"
     ]
    }
   ],
   "source": [
    "odd_list = list(filter( lambda x : x%2 !=0, range(1,11)))\n",
    "print(odd_list)"
   ]
  },
  {
   "cell_type": "code",
   "execution_count": 7,
   "id": "9e14582b-c1b0-43e3-9cc1-a5a6b06bc8e4",
   "metadata": {},
   "outputs": [
    {
     "name": "stdout",
     "output_type": "stream",
     "text": [
      "[1, 2, 3, 4, 5, 6, 0]\n",
      "[-1, -2, -3, -4, -5]\n"
     ]
    }
   ],
   "source": [
    "pos_list = list(filter( lambda x : x >=0, [1,2,3,4,5,6,-1,-2,-3,-4,-5,0]))\n",
    "print(pos_list)\n",
    "neg_list = list(filter( lambda x : not x >=0, [1,2,3,4,5,6,-1,-2,-3,-4,-5,0]))\n",
    "print(neg_list)"
   ]
  }
 ],
 "metadata": {
  "kernelspec": {
   "display_name": "Python 3 (ipykernel)",
   "language": "python",
   "name": "python3"
  },
  "language_info": {
   "codemirror_mode": {
    "name": "ipython",
    "version": 3
   },
   "file_extension": ".py",
   "mimetype": "text/x-python",
   "name": "python",
   "nbconvert_exporter": "python",
   "pygments_lexer": "ipython3",
   "version": "3.10.8"
  }
 },
 "nbformat": 4,
 "nbformat_minor": 5
}
