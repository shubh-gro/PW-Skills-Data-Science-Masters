{
 "cells": [
  {
   "cell_type": "markdown",
   "id": "a2f6be5c-648f-4ae3-b086-6f1babf99c72",
   "metadata": {},
   "source": [
    "### Q1. Which keyword is used to create a function? Create a function to return a list of odd numbers in the range of 1 to 25."
   ]
  },
  {
   "cell_type": "markdown",
   "id": "38a38ae5-3c19-4910-b7aa-d207e95150b5",
   "metadata": {},
   "source": [
    "### Answer 1\n",
    "Keyword **def** is used to create a function.\n",
    "Example:-"
   ]
  },
  {
   "cell_type": "code",
   "execution_count": 1,
   "id": "3d1f48bf-b65f-41da-a629-f1317753d90e",
   "metadata": {},
   "outputs": [
    {
     "name": "stdout",
     "output_type": "stream",
     "text": [
      "This is a function definition\n"
     ]
    }
   ],
   "source": [
    "def example1():\n",
    "    print(\"This is a function definition\")\n",
    "example1() #Function is called"
   ]
  },
  {
   "cell_type": "code",
   "execution_count": 2,
   "id": "7a667d35-15c2-4978-97b1-560a4ed64761",
   "metadata": {},
   "outputs": [
    {
     "data": {
      "text/plain": [
       "[1, 3, 5, 7, 9, 11, 13, 15, 17, 19, 21, 23, 25]"
      ]
     },
     "execution_count": 2,
     "metadata": {},
     "output_type": "execute_result"
    }
   ],
   "source": [
    "# Function return list of odd numbers in range if 1 to 25\n",
    "def odd_num():\n",
    "    odd = []\n",
    "    for i in range (1,26):\n",
    "        if i%2 !=0:\n",
    "            odd.append(i)\n",
    "    return(odd)\n",
    "odd_num()"
   ]
  },
  {
   "cell_type": "markdown",
   "id": "c84e9cd7-fdb4-4497-aece-546a573d4407",
   "metadata": {},
   "source": [
    "### Q2. Why *args and **kwargs is used in some functions? Create a function each for *args and **kwargs to demonstrate their use."
   ]
  },
  {
   "cell_type": "markdown",
   "id": "2d7cb463-5855-4ac3-857e-946e2210f26d",
   "metadata": {},
   "source": [
    "### Answer 2:\n",
    "In case it is unknown how many variables may be required as input to the function in future, we can use **args* as an argument inside the function paranthesis. Now this function will be able to take any number of inputs form user. the symbol * makes the variables iterable.<br>\n",
    "In case we wish the function to take in inputs in form of dictionary,i.e. keys and value pair, we use ***kwargs*. Here double asterisks are used before the parameter name and indicate the type of argument.<br>Example:-"
   ]
  },
  {
   "cell_type": "code",
   "execution_count": 3,
   "id": "4d03ef75-1e06-4faa-80be-4e1bb4336cfe",
   "metadata": {},
   "outputs": [
    {
     "data": {
      "text/plain": [
       "31.5"
      ]
     },
     "execution_count": 3,
     "metadata": {},
     "output_type": "execute_result"
    }
   ],
   "source": [
    "#Example of non keyworded input\n",
    "def add(*args):\n",
    "    s=0\n",
    "    for i in args:\n",
    "        s=s+i\n",
    "    return s\n",
    "add(8,7,5,9,2.5)"
   ]
  },
  {
   "cell_type": "code",
   "execution_count": 27,
   "id": "a98af158-b9c7-4006-9265-c59f346f35b4",
   "metadata": {},
   "outputs": [
    {
     "data": {
      "text/plain": [
       "14"
      ]
     },
     "execution_count": 27,
     "metadata": {},
     "output_type": "execute_result"
    }
   ],
   "source": [
    "add(1,8,5)"
   ]
  },
  {
   "cell_type": "code",
   "execution_count": 4,
   "id": "d7e3af9c-0801-4b28-b6dc-3d385f78a05e",
   "metadata": {},
   "outputs": [
    {
     "name": "stdout",
     "output_type": "stream",
     "text": [
      "Firstname is Shubham\n",
      "Lastname is Grover\n",
      "contact is 753951485\n"
     ]
    }
   ],
   "source": [
    "# Example of key-worded input\n",
    "def profile(**detail):\n",
    "    for key , value in detail.items():\n",
    "        print(\"{} is {}\".format(key, value))\n",
    "profile(Firstname = \"Shubham\", Lastname = \"Grover\", contact =753951485)"
   ]
  },
  {
   "cell_type": "code",
   "execution_count": 5,
   "id": "a730cb61-6f34-448b-900f-7955ee994b2a",
   "metadata": {},
   "outputs": [
    {
     "name": "stdout",
     "output_type": "stream",
     "text": [
      "Firstname is Shubham\n",
      "Lastname is Grover\n",
      "emp_id is 458426\n",
      "contact is 753951485\n"
     ]
    }
   ],
   "source": [
    "profile(Firstname = \"Shubham\", Lastname = \"Grover\", emp_id = 458426,  contact =753951485)"
   ]
  },
  {
   "cell_type": "markdown",
   "id": "f02a6d8f-f17d-4def-a761-1661b454c939",
   "metadata": {},
   "source": [
    "### Q3. What is an iterator in python? Name the method used to initialise the iterator object and the method used for iteration. Use these methods to print the first five elements of the given list [2, 4, 6, 8, 10, 12, 14, 16,18, 20]."
   ]
  },
  {
   "cell_type": "markdown",
   "id": "977ec28f-91e4-49fe-aad9-317cb611af27",
   "metadata": {},
   "source": [
    "### Answer 3:\n",
    "An iterator is an object tha contains a countable number of elements that can be iterated upon. It is used in python to iterate through the containers - list, set, tuple, dictionary, string. <br><br>\n",
    "Python supports iteration through iterable objects by the use of **iter()** method. It is used to initialize an iterator object for the iterable.<br><br>\n",
    "In order to iterate through the iterator **next()** method is used.<br> Every time the next() method is used it retrurns the next item from the container. It can be used many times, but will return the next value each time.<br>\n",
    "Below is an example:-"
   ]
  },
  {
   "cell_type": "code",
   "execution_count": 6,
   "id": "46fdeb64-5fdc-453c-ad43-fb48664d2fb9",
   "metadata": {},
   "outputs": [
    {
     "name": "stdout",
     "output_type": "stream",
     "text": [
      "B\n",
      "G\n",
      "T\n"
     ]
    }
   ],
   "source": [
    "tryout = \"BGT\"\n",
    "iter_object = iter(tryout) # Initiates an iterator object named iter_object\n",
    "print(next(iter_object)) # Returns B\n",
    "print(next(iter_object)) # Returns the next item - G\n",
    "print(next(iter_object)) # Returns the next item -T"
   ]
  },
  {
   "cell_type": "code",
   "execution_count": 7,
   "id": "94586350-61a0-43fa-9c4f-60dfb7478140",
   "metadata": {},
   "outputs": [
    {
     "name": "stdout",
     "output_type": "stream",
     "text": [
      "2\n",
      "4\n",
      "6\n",
      "8\n",
      "10\n"
     ]
    }
   ],
   "source": [
    "given_list =[2, 4, 6, 8, 10, 12, 14, 16,18, 20]\n",
    "l_iter = iter(given_list)\n",
    "for i in range(5): # loop to exetute the print statememt 5 times\n",
    "    print(next(l_iter)) # Every iteration returns the next item in line"
   ]
  },
  {
   "cell_type": "markdown",
   "id": "c10d471b-5055-4a3f-94fa-7d7f044e00a0",
   "metadata": {},
   "source": [
    "### Q4. What is a generator function in python? Why yield keyword is used? Give an example of a generator function."
   ]
  },
  {
   "cell_type": "markdown",
   "id": "75e2537b-0905-4160-847d-c0844b97e217",
   "metadata": {},
   "source": [
    "### Answer 4:\n",
    "A generator function is like a normal function except that it contains a yield keyword intead of return keyword. <br>\n",
    "The Object created by a generator function is called a generator iterator.<br>\n",
    "Genertaors function is an easier way to create an iterator as they do not need an iter() & next() methods.<br>\n",
    "Unlike normal functions whose code gets executed in call, the code inside a generator function dont even run, its only generates an object. The code acualy gets run when next() method is called on a genertaor object.<br>\n",
    "\n",
    "Whenever yield keyword is executed, it returns the value to the caller and temporarily suspends processing, but remembers the execution state of variables. When the generator iterator is invoked next time, it picks up from where it left off,ie, if value of variable a was 1 at the time of yield execution, at next invocation it will start for a = 1, not from the beginning. <br>\n",
    "\n",
    "This way the generator function need to execute only the necessary code & not return every time. So yield keyword suspends the processiong & allows for generation of the object fro function rather than return an output.\n",
    "\n",
    "Example:-"
   ]
  },
  {
   "cell_type": "code",
   "execution_count": 2,
   "id": "16ef3f61-710e-46ca-a4cc-a700b4881a25",
   "metadata": {},
   "outputs": [
    {
     "name": "stdout",
     "output_type": "stream",
     "text": [
      "1\n",
      "3\n",
      "5\n",
      "7\n",
      "9\n"
     ]
    }
   ],
   "source": [
    "def odd_num(n):#Generator function to print off numbers\n",
    "    i = 1\n",
    "    while i < n+1:\n",
    "        if i % 2!=0:\n",
    "            yield i\n",
    "        i = i+1\n",
    "odd = odd_num(10) # Generator iterator\n",
    "print(next(odd)) #Execution of next function\n",
    "print(next(odd))\n",
    "print(next(odd))\n",
    "print(next(odd))\n",
    "print(next(odd))"
   ]
  },
  {
   "cell_type": "markdown",
   "id": "b13587a7-92e9-4f10-9426-ec895bfbcdf4",
   "metadata": {},
   "source": [
    "### Q5. Create a generator function for prime numbers less than 1000. Use the next() method to print the first 20 prime numbers."
   ]
  },
  {
   "cell_type": "markdown",
   "id": "e912829c-3f47-43bf-9a62-6b5f8aecf0e5",
   "metadata": {},
   "source": [
    "### Answer 5"
   ]
  },
  {
   "cell_type": "code",
   "execution_count": 7,
   "id": "2da7d1c7-7d71-42f1-bd3f-561991a905dc",
   "metadata": {},
   "outputs": [
    {
     "name": "stdout",
     "output_type": "stream",
     "text": [
      "1\n",
      "2\n",
      "3\n",
      "5\n",
      "7\n",
      "11\n",
      "13\n",
      "17\n",
      "19\n",
      "23\n",
      "29\n",
      "31\n",
      "37\n",
      "41\n",
      "43\n",
      "47\n",
      "53\n",
      "59\n",
      "61\n",
      "67\n"
     ]
    }
   ],
   "source": [
    "def prime_1000(): #generator function to get 1000 prime nos\n",
    "    for i in range(1,1000):\n",
    "        x=[]\n",
    "        for j in range (2,i):\n",
    "            x.append(i%j)\n",
    "        if 0 not in x:\n",
    "            yield i\n",
    "prime = prime_1000()\n",
    "for k in range (20): #printing first 20 prime nos\n",
    "    print(next(prime)) #using next method"
   ]
  }
 ],
 "metadata": {
  "kernelspec": {
   "display_name": "Python 3 (ipykernel)",
   "language": "python",
   "name": "python3"
  },
  "language_info": {
   "codemirror_mode": {
    "name": "ipython",
    "version": 3
   },
   "file_extension": ".py",
   "mimetype": "text/x-python",
   "name": "python",
   "nbconvert_exporter": "python",
   "pygments_lexer": "ipython3",
   "version": "3.10.8"
  }
 },
 "nbformat": 4,
 "nbformat_minor": 5
}
