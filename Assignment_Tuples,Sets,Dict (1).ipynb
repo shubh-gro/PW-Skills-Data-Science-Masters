{
 "cells": [
  {
   "cell_type": "markdown",
   "id": "4ba4eb7c-76fd-4511-90f5-a7ebe3a3a09b",
   "metadata": {},
   "source": [
    "### Q.1 What are the characteristics of the tuples? Is tuple immutable?"
   ]
  },
  {
   "cell_type": "markdown",
   "id": "7af63e2b-8ba4-4297-90a8-c67ae079e66f",
   "metadata": {},
   "source": [
    "#### Answer 1 \n",
    "Tuple data types are used to store a collection of data or information in python. <br>\n",
    "Its feature and charateristics are: <br><br>\n",
    "      1. We can create tuples by entering elements separated with comma inside paranthesis. Parathesis are optional, But comma is what makes a tuple. Use of paranthesis is recommended as it avoids confusion while using functions. <br><br>\n",
    "     t = (a,b,c,d). Here t is a tuple<br><br>\n",
    "     2. **Immutability**: Once a Tuple is created, it cannot be changed. Though a new tuple can be created, but changes are not allowed.<br><br>\n",
    "     It means we cannot alter anything in elements of the tuple:<br><br>\n",
    "        > - Changing the order of elements is not allowed.<br>\n",
    "        > - We cannot add, or remove or change any element of tuple.<br><br>\n",
    "     3. **Indexing**: Tuple elemants start from 0,1,2,3,..<br><br>\n",
    "     4. **Duplication**: Tuples allows duplication of data or elements.<br><br>\n",
    "     5. **Operations**: Commom sequence operations are allowed in tuples.<br> \n",
    "       Example- Concatenation, using in and not in operator, use of functions like len(), max()&  min()"
   ]
  },
  {
   "cell_type": "code",
   "execution_count": 12,
   "id": "52487098-97c8-43db-92be-b2668a7e8fec",
   "metadata": {},
   "outputs": [],
   "source": [
    "t1 = (\"a\",1,\"c\",5.6,1) #This is a tuple. Here tuple allows duplication of element 1"
   ]
  },
  {
   "cell_type": "code",
   "execution_count": 13,
   "id": "04052d5f-f4ec-48af-bfc8-9519da05173e",
   "metadata": {},
   "outputs": [
    {
     "data": {
      "text/plain": [
       "('a', 1, 'c', 5.6, 1)"
      ]
     },
     "execution_count": 13,
     "metadata": {},
     "output_type": "execute_result"
    }
   ],
   "source": [
    "t1"
   ]
  },
  {
   "cell_type": "code",
   "execution_count": 14,
   "id": "a5e861d2-793e-4fa8-a492-cae80ef01d70",
   "metadata": {},
   "outputs": [
    {
     "data": {
      "text/plain": [
       "'c'"
      ]
     },
     "execution_count": 14,
     "metadata": {},
     "output_type": "execute_result"
    }
   ],
   "source": [
    "t1[2]#Find element at index 2."
   ]
  },
  {
   "cell_type": "code",
   "execution_count": 17,
   "id": "8147b6f4-27ad-4f96-8885-4e2457571158",
   "metadata": {},
   "outputs": [
    {
     "data": {
      "text/plain": [
       "False"
      ]
     },
     "execution_count": 17,
     "metadata": {},
     "output_type": "execute_result"
    }
   ],
   "source": [
    "2 in t1 #Basic sequence operation"
   ]
  },
  {
   "cell_type": "code",
   "execution_count": 18,
   "id": "d10ab858-66e5-4855-b35c-7ad991c102d6",
   "metadata": {},
   "outputs": [
    {
     "data": {
      "text/plain": [
       "('a', 1, 'c', 5.6, 1, 'a', 1, 'c', 5.6, 1)"
      ]
     },
     "execution_count": 18,
     "metadata": {},
     "output_type": "execute_result"
    }
   ],
   "source": [
    "t1 *2 #Basic sequence operation"
   ]
  },
  {
   "cell_type": "markdown",
   "id": "0b318401-521c-4d6b-a415-f43b8919d8cd",
   "metadata": {},
   "source": [
    "### Q.2 What are the two tuple methods in python? Give an example of each method. Give a reason why tuples have only two in-built methods as compared to Lists."
   ]
  },
  {
   "cell_type": "markdown",
   "id": "0659c189-e0b1-48ff-ba86-35e2a2646857",
   "metadata": {},
   "source": [
    "### Answer\n",
    "Tuple has only two in-built methods: <br>\n",
    "1. **index** --> Returns the first index of elementin tuple .\n",
    "2. **count** --> Returns the number of occurrences of element in tuple.\"\"\""
   ]
  },
  {
   "cell_type": "code",
   "execution_count": 42,
   "id": "4f9ce7d9-fe25-4091-b376-335af51ccfbb",
   "metadata": {},
   "outputs": [],
   "source": [
    "t2 = (1,2,3,4,5,1,5,3,4,1,1,1,3,3) #A tuple is created"
   ]
  },
  {
   "cell_type": "code",
   "execution_count": 43,
   "id": "a307d8a3-7ca5-4f34-b63f-8b20057a4c24",
   "metadata": {},
   "outputs": [
    {
     "data": {
      "text/plain": [
       "2"
      ]
     },
     "execution_count": 43,
     "metadata": {},
     "output_type": "execute_result"
    }
   ],
   "source": [
    "t2.index(3) #Returns the index of 1st occurrence of 3 in tuple."
   ]
  },
  {
   "cell_type": "code",
   "execution_count": 44,
   "id": "6500e471-8161-4c98-9585-9df2c06313d5",
   "metadata": {},
   "outputs": [
    {
     "data": {
      "text/plain": [
       "4"
      ]
     },
     "execution_count": 44,
     "metadata": {},
     "output_type": "execute_result"
    }
   ],
   "source": [
    "t2.count(3) #Returns the number of occurrences of 3 in tuple."
   ]
  },
  {
   "cell_type": "markdown",
   "id": "b0b18b0d-bc5c-497e-99ee-d1aae9de7de8",
   "metadata": {},
   "source": [
    "The above attributes of tuple only return information about the data stored in the tuple and do not try to alter the information. Any other attribute or method can alter the information stored in the tuple which violates the main feature of immutability of tuples. That is why no other attribute is usable for tuple.<br>\n",
    "Example :- <br>\n",
    "**clear()** --> Deletes all elements. It will not delete the tuple, but remove elements. Thus alterinf information."
   ]
  },
  {
   "cell_type": "markdown",
   "id": "2fb39a62-9615-4376-a255-d31951b10ef9",
   "metadata": {},
   "source": [
    "### Q3. Which collection datatypes in python do not allow duplicate items? Write a code using a set to remove duplicates from the given list.\n",
    "### List = [1, 1, 1, 2, 1, 3, 1, 4, 2, 1, 2, 2, 2, 3, 2, 4, 3, 1, 3, 2, 3, 3, 3, 4, 4, 1, 4, 2, 4, 3, 4, 4]"
   ]
  },
  {
   "cell_type": "markdown",
   "id": "f1d19dde-eb22-4ca9-8558-e2eff17db1c9",
   "metadata": {},
   "source": [
    "### Answer 3\n",
    "Out of the for collection datatypes in python, i.e., List, Tuple, Set & Dictionary, \"Set\" datatype does not allow duplicate items.<br>\n",
    "A set datatype automatically removes all duplicates and keeps only unique values."
   ]
  },
  {
   "cell_type": "code",
   "execution_count": 40,
   "id": "a5d46d87-9287-4257-8de5-87885f21827d",
   "metadata": {},
   "outputs": [],
   "source": [
    "List = [1, 1, 1, 2, 1, 3, 1, 4, 2, 1, 2, 2, 2, 3, 2, 4, 3, 1, 3, 2, 3, 3, 3, 4, 4, 1, 4, 2, 4, 3, 4, 4]"
   ]
  },
  {
   "cell_type": "markdown",
   "id": "75b3bb54-485c-4fb9-bf76-c87c016de0a9",
   "metadata": {},
   "source": [
    "Set and list dattypes can be type converted."
   ]
  },
  {
   "cell_type": "code",
   "execution_count": 41,
   "id": "03ee4ff7-f044-4276-a770-0c8fdd3b7fa1",
   "metadata": {},
   "outputs": [
    {
     "name": "stdout",
     "output_type": "stream",
     "text": [
      "{1, 2, 3, 4}\n"
     ]
    }
   ],
   "source": [
    "a = set(List) #Converting the above list to set datatype will remove all dupllicates and keep only unique balues\n",
    "print (a)"
   ]
  },
  {
   "cell_type": "markdown",
   "id": "efaf4524-62bc-4a42-a52f-5116783bdcc7",
   "metadata": {},
   "source": [
    "### Q4. Explain the difference between the union() and update() methods for a set. Give an example of each method."
   ]
  },
  {
   "cell_type": "markdown",
   "id": "be5d6a88-b124-4f74-8083-2f4733fdf94f",
   "metadata": {},
   "source": [
    "### Answer 4\n",
    "#### Union()"
   ]
  },
  {
   "cell_type": "markdown",
   "id": "f90cf2df-f110-4392-998c-b42e58f83f3e",
   "metadata": {},
   "source": [
    "Returns a new set as a union of sets. It means a new set with elements of either sets will be formed."
   ]
  },
  {
   "cell_type": "code",
   "execution_count": 45,
   "id": "4e2b6afb-0865-4a42-b970-86516686fa50",
   "metadata": {},
   "outputs": [
    {
     "name": "stdout",
     "output_type": "stream",
     "text": [
      "{1, 3, 5, 'Grover', 7, 8, 'Amar', 9, 10, 'Shubham', 'Ayush'}\n",
      "{1, 5, 7, 'Shubham', 'Amar', 9}\n",
      "{1, 3, 5, 'Grover', 8, 'Amar'}\n",
      "{8, 10, 'Ayush'}\n"
     ]
    }
   ],
   "source": [
    "#Example of union of sets x,y,z.\n",
    "#Union() returns a combination of elements of sets x,y & z as a ney set.\n",
    "#But Sets x,y,z remain same.\n",
    "x={\"Shubham\", \"Amar\",1,5,5,9,7,5}\n",
    "y={\"Grover\", \"Amar\",1,5,3,8}\n",
    "z={\"Ayush\",8,10,8}\n",
    "print(x.union(y,z))\n",
    "print(x)\n",
    "print(y)\n",
    "print(z)"
   ]
  },
  {
   "cell_type": "markdown",
   "id": "49a04cc9-e0a9-4791-971a-cd99aaddd8e7",
   "metadata": {},
   "source": [
    "#### Update()"
   ]
  },
  {
   "cell_type": "markdown",
   "id": "a8a58dc9-d421-4cfa-b6e1-cc9b6bb59004",
   "metadata": {},
   "source": [
    "It updates the set, adding elements from all other sets with itself. Unlike union, no new set is formed. This method does not retun anything."
   ]
  },
  {
   "cell_type": "code",
   "execution_count": 46,
   "id": "57146e13-6e0c-44f7-86cf-69c3bbdb65b2",
   "metadata": {},
   "outputs": [
    {
     "name": "stdout",
     "output_type": "stream",
     "text": [
      "None\n",
      "{1, 3, 5, 'Grover', 7, 8, 'Amar', 9, 10, 'Shubham', 'Ayush'}\n",
      "{1, 3, 5, 'Grover', 8, 'Amar'}\n",
      "{8, 10, 'Ayush'}\n"
     ]
    }
   ],
   "source": [
    "#Example of update\n",
    "#update() updates the set itself with the union of elements of sets x(itself) & y & z\n",
    "#Set gets updated. Nothing is returned from the update() method.\n",
    "x={\"Shubham\", \"Amar\",1,5,5,9,7,5}\n",
    "y={\"Grover\", \"Amar\",1,5,3,8}\n",
    "z={\"Ayush\",8,10,8}\n",
    "print(x.update(y,z)) #None willbe returned.\n",
    "print(x) # x gets updated\n",
    "print(y)\n",
    "print(z)"
   ]
  },
  {
   "cell_type": "markdown",
   "id": "55f6cb4b-cc84-4090-bd68-7094a2f4d9ce",
   "metadata": {},
   "source": [
    "### Q.5 What is a dictionary? Give an example. Also, state whether a dictionary is ordered or unordered."
   ]
  },
  {
   "cell_type": "markdown",
   "id": "5a25bc33-bbe0-42ba-9600-84aff6cb7520",
   "metadata": {},
   "source": [
    "### Answer 5\n",
    "Dictionary is a datatype that stores information by mapping values to keys. in following form:-<br>\n",
    "\n",
    "**d = {key : value}**<br>\n",
    "\n",
    "Kay & value pairs are separated by comma (,) as below:<br>\n",
    "\n",
    "**d1 = {key1 : value1 , key2: value2}**\n",
    "\n",
    "These are mutable.<br>\n",
    "Dictionaries do not allow duplicate keys.<br>\n",
    "\n",
    "Example of a dictiinary is:-"
   ]
  },
  {
   "cell_type": "code",
   "execution_count": 14,
   "id": "12632d4b-f710-469d-98d1-cd63f15bda63",
   "metadata": {},
   "outputs": [
    {
     "data": {
      "text/plain": [
       "{'name': 'Shubham',\n",
       " 'email_id': 'shubh@gmail.com',\n",
       " 'course': 'Data Science Masters',\n",
       " 'contact': 1075893641}"
      ]
     },
     "execution_count": 14,
     "metadata": {},
     "output_type": "execute_result"
    }
   ],
   "source": [
    "d1 = {\"name\" : \"Shubham\", \"email_id\" : \"shubh@gmail.com\" , \"course\" : \"Data Science Masters\", \"contact\" : 1075893641}\n",
    "d1"
   ]
  },
  {
   "cell_type": "markdown",
   "id": "38b37981-6c2c-4971-9a78-4bb3226e5d44",
   "metadata": {},
   "source": [
    "In python, if a sequence is considered ordered, it means that the items entered have a defined order, and that order will not change.\n",
    "\n",
    "Unordered means that the items do not have a defined order, so you cannot refer to an item by using an index. Thus indexing of unordered items is not possible.\n",
    "\n",
    "Dictionary is of ordered type. They are ordered by keys part of elements.<br>\n",
    "Example:-"
   ]
  },
  {
   "cell_type": "code",
   "execution_count": 18,
   "id": "8f4c9c23-7562-4ad6-8fdd-a16eb826a4e1",
   "metadata": {},
   "outputs": [
    {
     "name": "stdout",
     "output_type": "stream",
     "text": [
      "Shubham is the name of the Candidate & 1075893641 is the contact number\n"
     ]
    }
   ],
   "source": [
    "print (\"{} is the name of the Candidate & {} is the contact number\".format(d1[\"name\"],d1[\"contact\"]))"
   ]
  },
  {
   "cell_type": "markdown",
   "id": "c038753d-160f-4810-b00e-8df2ba746d7e",
   "metadata": {},
   "source": [
    "### Q.6. Can we create a nested dictionary? If so, please give an example by creating a simple one-level nested dictionary."
   ]
  },
  {
   "cell_type": "markdown",
   "id": "d72dcce4-d409-426c-ae22-fecc7617ea47",
   "metadata": {},
   "source": [
    "### Answer 6\n",
    "Python allows to a collection of dictionaries into a single dictionary in form of nested dictionary.\n",
    "\n",
    "Example:-"
   ]
  },
  {
   "cell_type": "code",
   "execution_count": 23,
   "id": "4ad72f41-f9da-4b27-ba11-4b52938fe830",
   "metadata": {},
   "outputs": [
    {
     "data": {
      "text/plain": [
       "{1: {'name': 'Shubham',\n",
       "  'email_id': 'shubh@gmail.com',\n",
       "  'course': 'Data Science Masters',\n",
       "  'contact': 1075893641},\n",
       " 2: {'name': 'Tushar',\n",
       "  'email_id': 'tush@gmail.com',\n",
       "  'course': 'Data Science Masters',\n",
       "  'contact': 1085967411}}"
      ]
     },
     "execution_count": 23,
     "metadata": {},
     "output_type": "execute_result"
    }
   ],
   "source": [
    "d2 = {1: {\"name\" : \"Shubham\", \"email_id\" : \"shubh@gmail.com\" , \"course\" : \"Data Science Masters\", \"contact\" : 1075893641},\n",
    "      2: {\"name\" : \"Tushar\", \"email_id\" : \"tush@gmail.com\" , \"course\" : \"Data Science Masters\", \"contact\" : 1085967411}}\n",
    "d2"
   ]
  },
  {
   "cell_type": "markdown",
   "id": "853b0d47-30ff-4831-890f-02d00665a109",
   "metadata": {},
   "source": [
    "### Q7. Using setdefault() method, create key named topics in the given dictionary and also add the value of the key as this list ['Python', 'Machine Learning’, 'Deep Learning']\n",
    "\n",
    "### dict1 = {'language' : 'Python', 'course': 'Data Science Masters'}"
   ]
  },
  {
   "cell_type": "markdown",
   "id": "11df43da-9203-4e9b-9e1f-77e248c35a10",
   "metadata": {},
   "source": [
    "### Answer 7\n",
    "Method setdefault() inserts a akey into the dictionary with the value of default(default = None) if the said key is not present.<br>\n",
    "But it will return the value of the key if it is already present in the dictionary"
   ]
  },
  {
   "cell_type": "code",
   "execution_count": 27,
   "id": "23d95080-8135-4163-8c40-507fbe165ffc",
   "metadata": {},
   "outputs": [],
   "source": [
    "dict1 = {'language' : 'Python', 'course': 'Data Science Masters'}\n",
    "dict1.setdefault(\"topics\") #Since there is no key named \"topics\", a new key named \"topics\" will be added with its value as None."
   ]
  },
  {
   "cell_type": "code",
   "execution_count": 32,
   "id": "34f345d0-0d68-4b61-be18-a0516e90509f",
   "metadata": {},
   "outputs": [
    {
     "data": {
      "text/plain": [
       "{'language': 'Python',\n",
       " 'course': 'Data Science Masters',\n",
       " 'topics': ['Python', 'Machine Learning', 'Deep Learning']}"
      ]
     },
     "execution_count": 32,
     "metadata": {},
     "output_type": "execute_result"
    }
   ],
   "source": [
    "dict1[\"topics\"] = [\"Python\",\"Machine Learning\",\"Deep Learning\"] #List is added as value to \"topics\"\n",
    "dict1"
   ]
  },
  {
   "cell_type": "markdown",
   "id": "24a12f55-d536-4e83-b5e4-65e9063ec736",
   "metadata": {},
   "source": [
    "### Q8. What are the three view objects in dictionaries? Use the three in-built methods in python to display these three view objects for the given dictionary.\n",
    "### dict1 = {'Sport': 'Cricket' , 'Teams': ['India', 'Australia', 'England', 'South Africa', 'Sri Lanka', 'New Zealand']}"
   ]
  },
  {
   "cell_type": "markdown",
   "id": "fe2fb1a3-0602-4ad9-a89f-0782f34061a1",
   "metadata": {},
   "source": [
    "### Answer 8\n",
    "The three view objects in dictionary are:\n",
    "\n",
    "dict_keys()<br>\n",
    "dict_values()<br>\n",
    "dict_items()<br>\n",
    "\n",
    "The in-bult functions used for these objects are:\n",
    "\n",
    "keys()<br>\n",
    "values()<br>\n",
    "items()\n",
    "\n",
    "The view objects so obtained are dynamic in nature and reflects any change made to the dictionary.\n",
    "\n",
    "Example:-"
   ]
  },
  {
   "cell_type": "code",
   "execution_count": 36,
   "id": "ec466b3d-88d8-435a-800b-bb3224acf302",
   "metadata": {},
   "outputs": [
    {
     "name": "stdout",
     "output_type": "stream",
     "text": [
      "dict_keys(['Sport', 'Teams'])\n",
      "dict_values(['Cricket', ['India', 'Australia', 'England', 'South Africa', 'Sri Lanka', 'New Zealand']])\n",
      "dict_items([('Sport', 'Cricket'), ('Teams', ['India', 'Australia', 'England', 'South Africa', 'Sri Lanka', 'New Zealand'])])\n"
     ]
    }
   ],
   "source": [
    "dict1 = {'Sport': 'Cricket' , 'Teams': ['India', 'Australia', 'England', 'South Africa', 'Sri Lanka', 'New Zealand']}\n",
    "keys = dict1.keys()\n",
    "values = dict1.values()\n",
    "items = dict1.items()\n",
    "print(keys)\n",
    "print(values)\n",
    "print(items)"
   ]
  }
 ],
 "metadata": {
  "kernelspec": {
   "display_name": "Python 3 (ipykernel)",
   "language": "python",
   "name": "python3"
  },
  "language_info": {
   "codemirror_mode": {
    "name": "ipython",
    "version": 3
   },
   "file_extension": ".py",
   "mimetype": "text/x-python",
   "name": "python",
   "nbconvert_exporter": "python",
   "pygments_lexer": "ipython3",
   "version": "3.10.8"
  }
 },
 "nbformat": 4,
 "nbformat_minor": 5
}
