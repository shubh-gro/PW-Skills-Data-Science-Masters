{
 "cells": [
  {
   "cell_type": "markdown",
   "id": "2d968878-811b-4652-8ba6-3b0714182be4",
   "metadata": {},
   "source": [
    "### Q1. Create a python program to sort the given list of tuples based on integer value using a lambda function. [('Sachin Tendulkar', 34357), ('Ricky Ponting', 27483), ('Jack Kallis', 25534), ('Virat Kohli', 24936)]"
   ]
  },
  {
   "cell_type": "markdown",
   "id": "005140fc-504f-4db8-8391-ad8d9134fafb",
   "metadata": {},
   "source": [
    "### Answer 1"
   ]
  },
  {
   "cell_type": "code",
   "execution_count": 8,
   "id": "23436fda-72ca-456b-b5f0-db0f386e4dfa",
   "metadata": {},
   "outputs": [
    {
     "data": {
      "text/plain": [
       "[('Virat Kohli', 24936),\n",
       " ('Jack Kallis', 25534),\n",
       " ('Ricky Ponting', 27483),\n",
       " ('Sachin Tendulkar', 34357)]"
      ]
     },
     "execution_count": 8,
     "metadata": {},
     "output_type": "execute_result"
    }
   ],
   "source": [
    "lst1 = [('Sachin Tendulkar', 34357), ('Ricky Ponting', 27483), ('Jack Kallis', 25534), ('Virat Kohli', 24936)]\n",
    "lst1.sort(key = lambda x:x[1]) #sort tuples,i.e. the elements of lst1 based on nteger values\n",
    "lst1"
   ]
  },
  {
   "cell_type": "markdown",
   "id": "faf40424-475e-4488-b784-289a06add997",
   "metadata": {},
   "source": [
    "### Q2. Write a Python Program to find the squares of all the numbers in the given list of integers using lambda and map functions.\n",
    "### [1, 2, 3, 4, 5, 6, 7, 8, 9, 10]"
   ]
  },
  {
   "cell_type": "markdown",
   "id": "2c1303ab-0406-41e2-8ad1-f15433914d6b",
   "metadata": {},
   "source": [
    "### Answer 2"
   ]
  },
  {
   "cell_type": "code",
   "execution_count": 11,
   "id": "b4ea6727-e321-4f57-935d-75f18daacfa3",
   "metadata": {},
   "outputs": [
    {
     "name": "stdout",
     "output_type": "stream",
     "text": [
      "[1, 4, 9, 16, 25, 36, 49, 64, 81, 100]\n"
     ]
    }
   ],
   "source": [
    "lst2 = [1,2,3,4,5,6,7,8,9,10]\n",
    "squares = map(lambda x : x**2, lst2)\n",
    "print(list(squares))"
   ]
  },
  {
   "cell_type": "markdown",
   "id": "8b443478-9d80-45b2-a1e6-97bfff8d4b01",
   "metadata": {},
   "source": [
    "### Q3. Write a python program to convert the given list of integers into a tuple of strings. Use map and lambda functions\n",
    "### Given String: [1, 2, 3, 4, 5, 6, 7, 8, 9, 10]\n",
    "### Expected output: ('1', '2', '3', '4', '5', '6', '7', '8', '9', '10')"
   ]
  },
  {
   "cell_type": "markdown",
   "id": "496f63a9-87e5-4a47-b4a0-17000de4d49c",
   "metadata": {},
   "source": [
    "### Answer 3"
   ]
  },
  {
   "cell_type": "code",
   "execution_count": 13,
   "id": "6b59a26e-f1ba-4a8d-b8a1-985a8131cc54",
   "metadata": {},
   "outputs": [
    {
     "name": "stdout",
     "output_type": "stream",
     "text": [
      "('1', '2', '3', '4', '5', '6', '7', '8', '9', '10')\n"
     ]
    }
   ],
   "source": [
    "given_string = [1,2,3,4,5,6,7,8,9,10]\n",
    "output = map(lambda x: str(x), given_string)\n",
    "t = tuple(output) ###converts to tuple\n",
    "print(t)"
   ]
  },
  {
   "cell_type": "markdown",
   "id": "3c8b61fe-6b7e-4241-a592-a6bff6bab3b9",
   "metadata": {},
   "source": [
    "### Q4. Write a python program using reduce function to compute the product of a list containing numbers from 1 to 25."
   ]
  },
  {
   "cell_type": "markdown",
   "id": "fb64c429-df0c-411d-9ede-a3ce6e7de7c6",
   "metadata": {},
   "source": [
    "### Answer 4"
   ]
  },
  {
   "cell_type": "code",
   "execution_count": 16,
   "id": "37e6e481-4bd8-4c6b-b1eb-f7e76670ab12",
   "metadata": {},
   "outputs": [
    {
     "name": "stdout",
     "output_type": "stream",
     "text": [
      "15511210043330985984000000\n"
     ]
    }
   ],
   "source": [
    "from functools import reduce\n",
    "lst3 =[]\n",
    "for x in range(1,26):\n",
    "    lst3.append(x)\n",
    "fact = reduce(lambda x,y : x*y, lst3)\n",
    "print(fact)"
   ]
  },
  {
   "cell_type": "markdown",
   "id": "06d67867-7fd2-4a5d-a5b8-6b62017e5464",
   "metadata": {},
   "source": [
    "### Q5. Write a python program to filter the numbers in a given list that are divisible by 2 and 3 using the filter function.\n",
    "### [2, 3, 6, 9, 27, 60, 90, 120, 55, 46]"
   ]
  },
  {
   "cell_type": "markdown",
   "id": "b73727c5-ab45-482c-a8ec-6b9742e9e0ca",
   "metadata": {},
   "source": [
    "### Answer 5"
   ]
  },
  {
   "cell_type": "code",
   "execution_count": 19,
   "id": "a61a35bf-dfa2-4c4c-9186-05847057fcff",
   "metadata": {},
   "outputs": [
    {
     "name": "stdout",
     "output_type": "stream",
     "text": [
      "[6, 60, 90, 120]\n"
     ]
    }
   ],
   "source": [
    "lst4 = [2, 3, 6, 9, 27, 60, 90, 120, 55, 46]\n",
    "div_by_6 = filter(lambda x: x%2 ==0 and x%3 ==0 ,lst4)\n",
    "print(list(div_by_6))         "
   ]
  },
  {
   "cell_type": "markdown",
   "id": "37904a6d-f51a-4743-907c-117536f523dd",
   "metadata": {},
   "source": [
    "### Q6. Write a python program to find palindromes in the given list of strings using lambda and filter function.\n",
    "### ['python', 'php', 'aba', 'radar', 'level']"
   ]
  },
  {
   "cell_type": "markdown",
   "id": "5d3ed11d-5060-4b01-9cce-df5680a38a07",
   "metadata": {},
   "source": [
    "### Answer 6"
   ]
  },
  {
   "cell_type": "code",
   "execution_count": 23,
   "id": "6359a6e1-e4da-4f28-b3b1-4880dbd90da5",
   "metadata": {},
   "outputs": [
    {
     "data": {
      "text/plain": [
       "'nohtyp'"
      ]
     },
     "execution_count": 23,
     "metadata": {},
     "output_type": "execute_result"
    }
   ],
   "source": [
    "provided = ['python', 'php', 'aba', 'radar', 'level']\n",
    "palin = filter(lambda x: x == x(::-1),provided)               \n",
    "print(list(pa"
   ]
  },
  {
   "cell_type": "code",
   "execution_count": null,
   "id": "f144bd53-e1f8-4c07-8372-5430c1d52783",
   "metadata": {},
   "outputs": [],
   "source": []
  }
 ],
 "metadata": {
  "kernelspec": {
   "display_name": "Python 3 (ipykernel)",
   "language": "python",
   "name": "python3"
  },
  "language_info": {
   "codemirror_mode": {
    "name": "ipython",
    "version": 3
   },
   "file_extension": ".py",
   "mimetype": "text/x-python",
   "name": "python",
   "nbconvert_exporter": "python",
   "pygments_lexer": "ipython3",
   "version": "3.10.8"
  }
 },
 "nbformat": 4,
 "nbformat_minor": 5
}
