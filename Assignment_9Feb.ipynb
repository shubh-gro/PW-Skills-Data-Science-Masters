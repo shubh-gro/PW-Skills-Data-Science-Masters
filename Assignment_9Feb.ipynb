{
 "cells": [
  {
   "cell_type": "markdown",
   "id": "2eaf94e2-989c-4bf6-b7d0-131eed87f67b",
   "metadata": {},
   "source": [
    "### Answer 1"
   ]
  },
  {
   "cell_type": "code",
   "execution_count": 5,
   "id": "9cc1ef81-5f4e-4555-8deb-833285aa6d12",
   "metadata": {},
   "outputs": [],
   "source": [
    "class vehicle:\n",
    "    def __init__(self, name_of_vehicle, max_speed, average_of_vehicle):\n",
    "        self.name_of_vehicle = name_of_vehicle\n",
    "        self.max_speed = max_speed\n",
    "        self.average_of_vehicle = average_of_vehicle"
   ]
  },
  {
   "cell_type": "markdown",
   "id": "0ef1b160-ab9e-41c1-82ce-9930dd607dc8",
   "metadata": {},
   "source": [
    "### Answer 2"
   ]
  },
  {
   "cell_type": "code",
   "execution_count": 6,
   "id": "b29ee960-a41a-42ff-8ac5-473f6a246d74",
   "metadata": {},
   "outputs": [],
   "source": [
    "class car(vehicle):\n",
    "    def seating_capacity(self, capacity):\n",
    "        self.capacity = capacity\n",
    "        return self.name_of_vehicle, self.capacity"
   ]
  },
  {
   "cell_type": "markdown",
   "id": "63b92433-4665-473f-9ed1-f969c0f6b1ef",
   "metadata": {},
   "source": [
    "### Answer 3\n",
    "When a class can be derived from more than one parent class, the type of inheritance is called Multiple inheritance."
   ]
  },
  {
   "cell_type": "code",
   "execution_count": 8,
   "id": "5f997682-5698-42df-aab2-6eeca7475774",
   "metadata": {},
   "outputs": [
    {
     "name": "stdout",
     "output_type": "stream",
     "text": [
      "Sparrow is chirping.\n",
      "Sparrow is eating.\n",
      "Sparrow is flying.\n"
     ]
    }
   ],
   "source": [
    "class Animal: # Parent class 1\n",
    "    def __init__(self, name):\n",
    "        self.name = name\n",
    "    def eat(self):\n",
    "        print(f\"{self.name} is eating.\")\n",
    "class Flying: # Parent class 2\n",
    "    def fly(self):\n",
    "        print(f\"{self.name} is flying.\")\n",
    "class Bird(Animal, Flying): # Both classes inherted\n",
    "    def __init__(self, name):\n",
    "        super().__init__(name) # super() fundtion indicates that argument belongs to Animal class as per order of inheritance.\n",
    "    def chirp(self):\n",
    "        print(f\"{self.name} is chirping.\")\n",
    "bird = Bird(\"Sparrow\")\n",
    "bird.chirp()\n",
    "bird.eat()\n",
    "bird.fly()"
   ]
  },
  {
   "cell_type": "markdown",
   "id": "24d6b6f7-7f03-4e10-bd68-860cc60f4d6b",
   "metadata": {},
   "source": [
    "### Answer 4"
   ]
  },
  {
   "cell_type": "markdown",
   "id": "a70cb607-0ace-487c-809d-fd459db6bb8b",
   "metadata": {},
   "source": [
    "Use of getters and setters in object-oriented programs is to ensure data encapsulation. In Python, variables are public in nature by default and are not hidden. In order to protect variables, they need to be made non public by prefixing the valriables with underscore ( _ ).<br><br>\n",
    "Non public variables in python are not knonw to users and can be accessed and modified by the use of getters and setters functions. Then we define seperate functions to get or set these variables. So users cannot directly access the variables and need to access these functions."
   ]
  },
  {
   "cell_type": "code",
   "execution_count": null,
   "id": "5bd2fe8c-15a7-4bbf-99cd-38fc84e779d6",
   "metadata": {},
   "outputs": [
    {
     "name": "stdout",
     "output_type": "stream",
     "text": [
      "5\n",
      "3\n",
      "15\n",
      "8\n",
      "4\n",
      "32\n",
      "Width must be greater than 0.\n",
      "Height must be greater than 0.\n"
     ]
    }
   ],
   "source": [
    "class Rectangle:\n",
    "    def __init__(self, width, height):\n",
    "        self._width = width # Makeshe a\n",
    "        self._height = height\n",
    "\n",
    "    def get_width(self): # Getter methods\n",
    "        return self._width\n",
    "\n",
    "    def get_height(self):\n",
    "        return self._height\n",
    "\n",
    "    def set_width(self, width): # Setter methods\n",
    "        if width > 0:\n",
    "            self._width = width\n",
    "        else:\n",
    "            print(\"Width must be greater than 0.\")\n",
    "\n",
    "    def set_height(self, height):\n",
    "        if height > 0:\n",
    "            self._height = height\n",
    "        else:\n",
    "            print(\"Height must be greater than 0.\")\n",
    "\n",
    "    def area(self):  # Other methods\n",
    "        return self._width * self._height\n",
    "\n",
    "\n",
    "rectangle = Rectangle(5, 3)\n",
    "print(rectangle.get_width())  \n",
    "print(rectangle.get_height()) \n",
    "print(rectangle.area())  \n",
    "\n",
    "rectangle.set_width(8) #Set new width\n",
    "rectangle.set_height(4) #set new height\n",
    "print(rectangle.get_width())  \n",
    "print(rectangle.get_height())  \n",
    "print(rectangle.area())  \n",
    "\n",
    "rectangle.set_width(-2)  \n",
    "rectangle.set_height(0)  "
   ]
  },
  {
   "cell_type": "markdown",
   "id": "2c69998c-0688-48e8-9055-1d04043af1db",
   "metadata": {},
   "source": [
    "### Answer 4\n",
    "Method overriding is a feature in object-oriented programming that allows a subclass to provide a different implementation of a method that is already defined in its superclass. The method in the subclass has the same name, return type, and parameters as the method in the superclass. <br>\n",
    "\n",
    "When a method is overridden, the subclass provides its own implementation to define a specific behavior that is different from the superclass. This allows for customization and specialization of behavior based on the needs of the subclass.<br\n",
    "\n",
    "Example"
   ]
  },
  {
   "cell_type": "code",
   "execution_count": 7,
   "id": "73568c44-14ea-47bb-88fd-7fe5e589b3d4",
   "metadata": {},
   "outputs": [
    {
     "name": "stdout",
     "output_type": "stream",
     "text": [
      "Calculating the area of a generic shape.\n",
      "The area of the rectangle is 15.\n",
      "The area of the circle is 50.24.\n"
     ]
    }
   ],
   "source": [
    "class Shape:\n",
    "    def area(self):\n",
    "        print(\"Calculating the area of a generic shape.\")\n",
    "\n",
    "class Rectangle(Shape):\n",
    "    def __init__(self, width, height):\n",
    "        self.width = width\n",
    "        self.height = height\n",
    "\n",
    "    def area(self): # Method Overriding\n",
    "        result = self.width * self.height\n",
    "        print(f\"The area of the rectangle is {result}.\")\n",
    "\n",
    "class Circle(Shape):\n",
    "    def __init__(self, radius):\n",
    "        self.radius = radius\n",
    "\n",
    "    def area(self): # Method overriding\n",
    "        result = 3.14 * self.radius * self.radius\n",
    "        print(f\"The area of the circle is {result}.\")\n",
    "\n",
    "shape = Shape()\n",
    "shape.area() \n",
    "\n",
    "rectangle = Rectangle(5, 3)\n",
    "rectangle.area()  \n",
    "\n",
    "circle = Circle(4)\n",
    "circle.area() "
   ]
  },
  {
   "cell_type": "code",
   "execution_count": null,
   "id": "ed810f11-7eac-43e3-93b1-605535e2cf25",
   "metadata": {},
   "outputs": [],
   "source": []
  }
 ],
 "metadata": {
  "kernelspec": {
   "display_name": "Python 3 (ipykernel)",
   "language": "python",
   "name": "python3"
  },
  "language_info": {
   "codemirror_mode": {
    "name": "ipython",
    "version": 3
   },
   "file_extension": ".py",
   "mimetype": "text/x-python",
   "name": "python",
   "nbconvert_exporter": "python",
   "pygments_lexer": "ipython3",
   "version": "3.10.8"
  }
 },
 "nbformat": 4,
 "nbformat_minor": 5
}
