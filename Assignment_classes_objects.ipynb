{
 "cells": [
  {
   "cell_type": "markdown",
   "id": "7206b0a5-2138-4d89-bf73-2dc8380ef003",
   "metadata": {},
   "source": [
    "### Q1. Explain Class and Object with respect to Object-Oriented Programming. Give a suitable example."
   ]
  },
  {
   "cell_type": "markdown",
   "id": "d1f0db23-f7ae-4023-b129-40dcf896861a",
   "metadata": {},
   "source": [
    "### Answer 1\n",
    "Object Oriented Programming is the concept in which softwares are designed around data and objects rather than functions. It means that any number of instances can be created for a classes and all features of class, its methods - behaviour & attributes - state, will be aplicable to each instance. An instance is just a copy of the class.<br>\n",
    "\n",
    "An object is an instance of the class with its own unique values passed as arguments. There can be many objects to class which will have unique values, or state. The objects can interact with other objects. The state of objects can be modified by methods of the class.<br>\n",
    "\n",
    "Class presents a blueprint or prototype on the state of objects and how to modify those states.\n",
    "\n",
    "Example:-\n",
    "dog is a class.<br>\n",
    "The class dog has some common features like, 4 legs, it is a mammal, etc.\n",
    "The class dog will have many attributes like breed, color, age, etc.<br>\n",
    "The class dog will also have some functionality like tricks, barks, sleep, eat, lick, play, etc.<br>\n",
    "\n",
    "There can be any number of dogs. <br>\n",
    "Say, Bruno, Joey, Caddy, Grizo, etc.<br>\n",
    "These are **objects** of the class dog. So each one is copy of the class dog<br>\n",
    "Each object will have its own attributes or state like, breed, color, age, unique to it. <br>\n",
    "Each dog or object can interact with oher dogs or otside world through its functionality or methods, of tricks, barking, playing, etc.<br>\n",
    "\n",
    "In the above example, CLASS and OBJECTS are centeral to real world example of dogs. These once declared become unique. Any cnhange in state can be done by first identifying the dog's object, ie. name of the dog, then accesing its features and making canhes in its behaviour. This is the concept of OOPs."
   ]
  },
  {
   "cell_type": "markdown",
   "id": "a1262063-e973-4b04-ac5c-c826b5276348",
   "metadata": {},
   "source": [
    "### Q2. Name the four pillars of OOPs."
   ]
  },
  {
   "cell_type": "markdown",
   "id": "f60e0ec4-567a-4674-8504-a8dfc796c8fc",
   "metadata": {},
   "source": [
    "### Answer 2\n",
    "The four pillars of OOPs are:-\n",
    "1. Polymorphism\n",
    "2. Encapsualtion\n",
    "3. Abstraction\n",
    "4. Inheritence"
   ]
  },
  {
   "cell_type": "markdown",
   "id": "a2e3a544-abe3-43b8-91c6-5f3b4c307b3d",
   "metadata": {},
   "source": [
    "### Q3. Explain why the __ init __() function is used. Give a suitable example."
   ]
  },
  {
   "cell_type": "markdown",
   "id": "62de386f-d22d-49d1-a377-c3fd0679f39a",
   "metadata": {},
   "source": [
    "### Answer 3\n",
    "Method __ init __() is used as cunstructor in python. A custructor enables classes to take inputs from the user. <br>\n",
    "__ init __() takes in a mandatory first parameter as self which acts as a pointer for the class.\n",
    "Example:-"
   ]
  },
  {
   "cell_type": "code",
   "execution_count": 28,
   "id": "d3aa569e-0a15-4b71-ab32-ed45477ca5bd",
   "metadata": {},
   "outputs": [
    {
     "name": "stdout",
     "output_type": "stream",
     "text": [
      "Temperature is 549°C\n",
      "Pressure is 166 bar\n",
      "Temperature is 538°C\n",
      "Pressure is 120 bar\n"
     ]
    }
   ],
   "source": [
    "class parameters:\n",
    "    def __init__(self,temperature,pressure):\n",
    "        self.temperature = temperature\n",
    "        self.pressure = pressure\n",
    "    def returndata(self):\n",
    "        print(\"Temperature is {}°C\".format(self.temperature))\n",
    "        print(\"Pressure is {} bar\".format(self.pressure))\n",
    "steam_1300 = parameters(549,166) #Object of name \"steam_1300\" created which takes two inputs of temperature and pressure\n",
    "steam_1500 = parameters(538,120)#Object of name \"steam_1500\" created which takes two inputs of temperature and pressure\n",
    "steam_1300.returndata()\n",
    "steam_1500.returndata()"
   ]
  },
  {
   "cell_type": "markdown",
   "id": "88bdf1f6-960f-4cb1-8fee-c38c2c793648",
   "metadata": {},
   "source": [
    "### Q4. Why self is used in OOPs?"
   ]
  },
  {
   "cell_type": "markdown",
   "id": "6a22a98c-a05c-4c2d-8ba5-a66c72a7e2c4",
   "metadata": {},
   "source": [
    "### Answer 4 \n",
    "In Python there is a convention that the class methods must have an extra first parameter in the method definition. We do not need to give any value to it. It just acts as a pointer to the class. <br>\n",
    "We can use any other word instead of self. But its prefered as it will make the program easier for other programmers to read.\n",
    "\n",
    "Like in the above example: temperature & pressure in __ init __ () method takes in values passed in objects and have no relation with class or objects. <br>\n",
    "But self.temperature is an attribute unique to the class parameters. So when it is used inside  method returndat we use self.temperature instead of jus temperature."
   ]
  },
  {
   "cell_type": "markdown",
   "id": "471ac6bb-3e64-47b7-9c50-dc2294412fad",
   "metadata": {},
   "source": [
    "### Q5. What is inheritance? Give an example for each type of inheritance."
   ]
  },
  {
   "cell_type": "markdown",
   "id": "cdc077bf-8939-4377-9cda-00662b44005b",
   "metadata": {},
   "source": [
    "### Answer 5\n",
    "Inheritance is a mechanism that allows to create hierarchy of clases that share a set of properties and methods by deriving a class from other class. <br> Objects adopting the features of a class is an example of inheritance."
   ]
  },
  {
   "cell_type": "code",
   "execution_count": null,
   "id": "0b1dd42f-1abc-4e7e-a6f3-42bc5a12d024",
   "metadata": {},
   "outputs": [],
   "source": []
  }
 ],
 "metadata": {
  "kernelspec": {
   "display_name": "Python 3 (ipykernel)",
   "language": "python",
   "name": "python3"
  },
  "language_info": {
   "codemirror_mode": {
    "name": "ipython",
    "version": 3
   },
   "file_extension": ".py",
   "mimetype": "text/x-python",
   "name": "python",
   "nbconvert_exporter": "python",
   "pygments_lexer": "ipython3",
   "version": "3.10.8"
  }
 },
 "nbformat": 4,
 "nbformat_minor": 5
}
